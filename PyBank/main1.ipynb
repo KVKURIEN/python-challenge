{
 "cells": [
  {
   "cell_type": "code",
   "execution_count": 1,
   "metadata": {},
   "outputs": [
    {
     "name": "stdout",
     "output_type": "stream",
     "text": [
      "41\n",
      "18971412\n"
     ]
    },
    {
     "data": {
      "text/plain": [
       "-6758.975"
      ]
     },
     "execution_count": 1,
     "metadata": {},
     "output_type": "execute_result"
    }
   ],
   "source": [
    "import pandas as pd\n",
    "import numpy as np\n",
    "net_income = \"Resources/budget_data.csv\"\n",
    "net_income_df = pd.read_csv(net_income)\n",
    "net_income_df.head()\n",
    "months = net_income_df['Date'].count()\n",
    "print (months)\n",
    "profit = net_income_df['Revenue'].sum()\n",
    "print(profit)\n",
    "\n",
    "net_income_df['Delta'] = net_income_df[\"Revenue\"].diff().fillna(0).astype(int)\n",
    "total_delta = net_income_df['Delta'].sum()\n",
    "ave_change = total_delta / (months-1) \n",
    "ave_change"
   ]
  },
  {
   "cell_type": "code",
   "execution_count": 2,
   "metadata": {},
   "outputs": [],
   "source": [
    "increase = net_income_df.loc[net_income_df['Revenue'].idxmax()]"
   ]
  },
  {
   "cell_type": "code",
   "execution_count": 3,
   "metadata": {},
   "outputs": [],
   "source": [
    "decrease = net_income_df.loc[net_income_df['Revenue'].idxmin()]"
   ]
  },
  {
   "cell_type": "code",
   "execution_count": 5,
   "metadata": {},
   "outputs": [
    {
     "name": "stdout",
     "output_type": "stream",
     "text": [
      "text \n",
      "Financial Analysis\n",
      "--------------------\n",
      "Total Months:  41\n",
      "\n",
      "Total Profit  18971412\n",
      "\n",
      "Greatest Increase in Profits:  Date        Sep-15\n",
      "Revenue    1195111\n",
      "Delta       643748\n",
      "Name: 35, dtype: object\n",
      "\n",
      "Greatest Decrease in Profits:  Date         Aug-14\n",
      "Revenue    -1172384\n",
      "Delta      -1779747\n",
      "Name: 22, dtype: object\n"
     ]
    }
   ],
   "source": [
    "print(\"text \\nFinancial Analysis\")\n",
    "print(\"--------------------\")\n",
    "print (\"Total Months: \", months)\n",
    "print()\n",
    "print(\"Total Profit \", profit)\n",
    "print()\n",
    "print (\"Greatest Increase in Profits: \", increase)\n",
    "print()\n",
    "print(\"Greatest Decrease in Profits: \",decrease )"
   ]
  },
  {
   "cell_type": "code",
   "execution_count": null,
   "metadata": {},
   "outputs": [],
   "source": []
  }
 ],
 "metadata": {
  "kernelspec": {
   "display_name": "Python 3",
   "language": "python",
   "name": "python3"
  },
  "language_info": {
   "codemirror_mode": {
    "name": "ipython",
    "version": 3
   },
   "file_extension": ".py",
   "mimetype": "text/x-python",
   "name": "python",
   "nbconvert_exporter": "python",
   "pygments_lexer": "ipython3",
   "version": "3.6.4"
  }
 },
 "nbformat": 4,
 "nbformat_minor": 2
}
